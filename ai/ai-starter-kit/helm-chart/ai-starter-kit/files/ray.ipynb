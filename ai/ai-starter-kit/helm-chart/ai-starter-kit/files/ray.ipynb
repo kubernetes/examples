{
 "cells": [
  {
   "cell_type": "code",
   "execution_count": 1,
   "id": "e4a6ac7c-5c73-42a9-8b74-420788321543",
   "metadata": {
    "collapsed": true,
    "jupyter": {
     "outputs_hidden": true
    },
    "tags": []
   },
   "outputs": [
    {
     "name": "stdout",
     "output_type": "stream",
     "text": [
      "Defaulting to user installation because normal site-packages is not writeable\n",
      "Requirement already satisfied: ray==2.41.0 in ./models-cache/lib/python3.11/site-packages (2.41.0)\n",
      "Requirement already satisfied: click>=7.0 in ./models-cache/lib/python3.11/site-packages (from ray==2.41.0) (8.2.1)\n",
      "Requirement already satisfied: filelock in ./models-cache/lib/python3.11/site-packages (from ray==2.41.0) (3.19.1)\n",
      "Requirement already satisfied: jsonschema in /opt/bitnami/miniconda/lib/python3.11/site-packages (from ray==2.41.0) (4.22.0)\n",
      "Requirement already satisfied: msgpack<2.0.0,>=1.0.0 in ./models-cache/lib/python3.11/site-packages (from ray==2.41.0) (1.1.1)\n",
      "Requirement already satisfied: packaging in /opt/bitnami/miniconda/lib/python3.11/site-packages (from ray==2.41.0) (23.2)\n",
      "Requirement already satisfied: protobuf!=3.19.5,>=3.15.3 in ./models-cache/lib/python3.11/site-packages (from ray==2.41.0) (6.32.0)\n",
      "Requirement already satisfied: pyyaml in /opt/bitnami/miniconda/lib/python3.11/site-packages (from ray==2.41.0) (6.0.1)\n",
      "Requirement already satisfied: aiosignal in /opt/bitnami/miniconda/lib/python3.11/site-packages (from ray==2.41.0) (1.3.1)\n",
      "Requirement already satisfied: frozenlist in /opt/bitnami/miniconda/lib/python3.11/site-packages (from ray==2.41.0) (1.4.1)\n",
      "Requirement already satisfied: requests in /opt/bitnami/miniconda/lib/python3.11/site-packages (from ray==2.41.0) (2.31.0)\n",
      "Requirement already satisfied: attrs>=22.2.0 in /opt/bitnami/miniconda/lib/python3.11/site-packages (from jsonschema->ray==2.41.0) (23.2.0)\n",
      "Requirement already satisfied: jsonschema-specifications>=2023.03.6 in /opt/bitnami/miniconda/lib/python3.11/site-packages (from jsonschema->ray==2.41.0) (2023.12.1)\n",
      "Requirement already satisfied: referencing>=0.28.4 in /opt/bitnami/miniconda/lib/python3.11/site-packages (from jsonschema->ray==2.41.0) (0.35.1)\n",
      "Requirement already satisfied: rpds-py>=0.7.1 in /opt/bitnami/miniconda/lib/python3.11/site-packages (from jsonschema->ray==2.41.0) (0.18.1)\n",
      "Requirement already satisfied: charset-normalizer<4,>=2 in /opt/bitnami/miniconda/lib/python3.11/site-packages (from requests->ray==2.41.0) (2.0.4)\n",
      "Requirement already satisfied: idna<4,>=2.5 in /opt/bitnami/miniconda/lib/python3.11/site-packages (from requests->ray==2.41.0) (3.7)\n",
      "Requirement already satisfied: urllib3<3,>=1.21.1 in /opt/bitnami/miniconda/lib/python3.11/site-packages (from requests->ray==2.41.0) (2.1.0)\n",
      "Requirement already satisfied: certifi>=2017.4.17 in /opt/bitnami/miniconda/lib/python3.11/site-packages (from requests->ray==2.41.0) (2024.2.2)\n"
     ]
    }
   ],
   "source": [
    "!pip install ray==2.41.0"
   ]
  },
  {
   "cell_type": "code",
   "execution_count": 2,
   "id": "788f1517-251c-4171-af7d-f4c7a5073d71",
   "metadata": {
    "collapsed": true,
    "jupyter": {
     "outputs_hidden": true
    },
    "tags": []
   },
   "outputs": [
    {
     "name": "stdout",
     "output_type": "stream",
     "text": [
      "Defaulting to user installation because normal site-packages is not writeable\n",
      "Requirement already satisfied: numpy in ./models-cache/lib/python3.11/site-packages (2.3.2)\n",
      "Requirement already satisfied: mlflow in ./models-cache/lib/python3.11/site-packages (3.3.1)\n",
      "Requirement already satisfied: tensorflow in ./models-cache/lib/python3.11/site-packages (2.20.0)\n",
      "Requirement already satisfied: ray[client,default,serve] in ./models-cache/lib/python3.11/site-packages (2.41.0)\n",
      "Requirement already satisfied: mlflow-skinny==3.3.1 in ./models-cache/lib/python3.11/site-packages (from mlflow) (3.3.1)\n",
      "Requirement already satisfied: mlflow-tracing==3.3.1 in ./models-cache/lib/python3.11/site-packages (from mlflow) (3.3.1)\n",
      "Requirement already satisfied: Flask<4 in ./models-cache/lib/python3.11/site-packages (from mlflow) (3.1.2)\n",
      "Requirement already satisfied: alembic!=1.10.0,<2 in /opt/bitnami/miniconda/lib/python3.11/site-packages (from mlflow) (1.13.1)\n",
      "Requirement already satisfied: cryptography<46,>=43.0.0 in ./models-cache/lib/python3.11/site-packages (from mlflow) (45.0.6)\n",
      "Requirement already satisfied: docker<8,>=4.0.0 in /opt/bitnami/miniconda/lib/python3.11/site-packages (from mlflow) (7.1.0)\n",
      "Requirement already satisfied: graphene<4 in ./models-cache/lib/python3.11/site-packages (from mlflow) (3.4.3)\n",
      "Requirement already satisfied: gunicorn<24 in ./models-cache/lib/python3.11/site-packages (from mlflow) (23.0.0)\n",
      "Requirement already satisfied: matplotlib<4 in ./models-cache/lib/python3.11/site-packages (from mlflow) (3.10.5)\n",
      "Requirement already satisfied: pandas<3 in ./models-cache/lib/python3.11/site-packages (from mlflow) (2.3.2)\n",
      "Requirement already satisfied: pyarrow<22,>=4.0.0 in ./models-cache/lib/python3.11/site-packages (from mlflow) (21.0.0)\n",
      "Requirement already satisfied: scikit-learn<2 in ./models-cache/lib/python3.11/site-packages (from mlflow) (1.7.1)\n",
      "Requirement already satisfied: scipy<2 in ./models-cache/lib/python3.11/site-packages (from mlflow) (1.16.1)\n",
      "Requirement already satisfied: sqlalchemy<3,>=1.4.0 in /opt/bitnami/miniconda/lib/python3.11/site-packages (from mlflow) (2.0.30)\n",
      "Requirement already satisfied: cachetools<7,>=5.0.0 in ./models-cache/lib/python3.11/site-packages (from mlflow-skinny==3.3.1->mlflow) (5.5.2)\n",
      "Requirement already satisfied: click<9,>=7.0 in ./models-cache/lib/python3.11/site-packages (from mlflow-skinny==3.3.1->mlflow) (8.2.1)\n",
      "Requirement already satisfied: cloudpickle<4 in ./models-cache/lib/python3.11/site-packages (from mlflow-skinny==3.3.1->mlflow) (3.1.1)\n",
      "Requirement already satisfied: databricks-sdk<1,>=0.20.0 in ./models-cache/lib/python3.11/site-packages (from mlflow-skinny==3.3.1->mlflow) (0.64.0)\n",
      "Requirement already satisfied: fastapi<1 in ./models-cache/lib/python3.11/site-packages (from mlflow-skinny==3.3.1->mlflow) (0.116.1)\n",
      "Requirement already satisfied: gitpython<4,>=3.1.9 in ./models-cache/lib/python3.11/site-packages (from mlflow-skinny==3.3.1->mlflow) (3.1.45)\n",
      "Requirement already satisfied: importlib_metadata!=4.7.0,<9,>=3.7.0 in ./models-cache/lib/python3.11/site-packages (from mlflow-skinny==3.3.1->mlflow) (8.7.0)\n",
      "Requirement already satisfied: opentelemetry-api<3,>=1.9.0 in ./models-cache/lib/python3.11/site-packages (from mlflow-skinny==3.3.1->mlflow) (1.36.0)\n",
      "Requirement already satisfied: opentelemetry-sdk<3,>=1.9.0 in ./models-cache/lib/python3.11/site-packages (from mlflow-skinny==3.3.1->mlflow) (1.36.0)\n",
      "Requirement already satisfied: packaging<26 in /opt/bitnami/miniconda/lib/python3.11/site-packages (from mlflow-skinny==3.3.1->mlflow) (23.2)\n",
      "Requirement already satisfied: protobuf<7,>=3.12.0 in ./models-cache/lib/python3.11/site-packages (from mlflow-skinny==3.3.1->mlflow) (6.32.0)\n",
      "Requirement already satisfied: pydantic<3,>=1.10.8 in /opt/bitnami/miniconda/lib/python3.11/site-packages (from mlflow-skinny==3.3.1->mlflow) (2.7.3)\n",
      "Requirement already satisfied: pyyaml<7,>=5.1 in /opt/bitnami/miniconda/lib/python3.11/site-packages (from mlflow-skinny==3.3.1->mlflow) (6.0.1)\n",
      "Requirement already satisfied: requests<3,>=2.17.3 in /opt/bitnami/miniconda/lib/python3.11/site-packages (from mlflow-skinny==3.3.1->mlflow) (2.31.0)\n",
      "Requirement already satisfied: sqlparse<1,>=0.4.0 in ./models-cache/lib/python3.11/site-packages (from mlflow-skinny==3.3.1->mlflow) (0.5.3)\n",
      "Requirement already satisfied: typing-extensions<5,>=4.0.0 in /opt/bitnami/miniconda/lib/python3.11/site-packages (from mlflow-skinny==3.3.1->mlflow) (4.12.2)\n",
      "Requirement already satisfied: uvicorn<1 in ./models-cache/lib/python3.11/site-packages (from mlflow-skinny==3.3.1->mlflow) (0.35.0)\n",
      "Requirement already satisfied: absl-py>=1.0.0 in ./models-cache/lib/python3.11/site-packages (from tensorflow) (2.3.1)\n",
      "Requirement already satisfied: astunparse>=1.6.0 in ./models-cache/lib/python3.11/site-packages (from tensorflow) (1.6.3)\n",
      "Requirement already satisfied: flatbuffers>=24.3.25 in ./models-cache/lib/python3.11/site-packages (from tensorflow) (25.2.10)\n",
      "Requirement already satisfied: gast!=0.5.0,!=0.5.1,!=0.5.2,>=0.2.1 in ./models-cache/lib/python3.11/site-packages (from tensorflow) (0.6.0)\n",
      "Requirement already satisfied: google_pasta>=0.1.1 in ./models-cache/lib/python3.11/site-packages (from tensorflow) (0.2.0)\n",
      "Requirement already satisfied: libclang>=13.0.0 in ./models-cache/lib/python3.11/site-packages (from tensorflow) (18.1.1)\n",
      "Requirement already satisfied: opt_einsum>=2.3.2 in ./models-cache/lib/python3.11/site-packages (from tensorflow) (3.4.0)\n",
      "Requirement already satisfied: setuptools in /opt/bitnami/miniconda/lib/python3.11/site-packages (from tensorflow) (69.5.1)\n",
      "Requirement already satisfied: six>=1.12.0 in /opt/bitnami/miniconda/lib/python3.11/site-packages (from tensorflow) (1.16.0)\n",
      "Requirement already satisfied: termcolor>=1.1.0 in ./models-cache/lib/python3.11/site-packages (from tensorflow) (3.1.0)\n",
      "Requirement already satisfied: wrapt>=1.11.0 in ./models-cache/lib/python3.11/site-packages (from tensorflow) (1.17.3)\n",
      "Requirement already satisfied: grpcio<2.0,>=1.24.3 in ./models-cache/lib/python3.11/site-packages (from tensorflow) (1.74.0)\n",
      "Requirement already satisfied: tensorboard~=2.20.0 in ./models-cache/lib/python3.11/site-packages (from tensorflow) (2.20.0)\n",
      "Requirement already satisfied: keras>=3.10.0 in ./models-cache/lib/python3.11/site-packages (from tensorflow) (3.11.3)\n",
      "Requirement already satisfied: h5py>=3.11.0 in ./models-cache/lib/python3.11/site-packages (from tensorflow) (3.14.0)\n",
      "Requirement already satisfied: ml_dtypes<1.0.0,>=0.5.1 in ./models-cache/lib/python3.11/site-packages (from tensorflow) (0.5.3)\n",
      "Requirement already satisfied: filelock in ./models-cache/lib/python3.11/site-packages (from ray[client,default,serve]) (3.19.1)\n",
      "Requirement already satisfied: jsonschema in /opt/bitnami/miniconda/lib/python3.11/site-packages (from ray[client,default,serve]) (4.22.0)\n",
      "Requirement already satisfied: msgpack<2.0.0,>=1.0.0 in ./models-cache/lib/python3.11/site-packages (from ray[client,default,serve]) (1.1.1)\n",
      "Requirement already satisfied: aiosignal in /opt/bitnami/miniconda/lib/python3.11/site-packages (from ray[client,default,serve]) (1.3.1)\n",
      "Requirement already satisfied: frozenlist in /opt/bitnami/miniconda/lib/python3.11/site-packages (from ray[client,default,serve]) (1.4.1)\n",
      "Requirement already satisfied: aiohttp>=3.7 in /opt/bitnami/miniconda/lib/python3.11/site-packages (from ray[client,default,serve]) (3.9.5)\n",
      "Requirement already satisfied: aiohttp-cors in ./models-cache/lib/python3.11/site-packages (from ray[client,default,serve]) (0.8.1)\n",
      "Requirement already satisfied: colorful in ./models-cache/lib/python3.11/site-packages (from ray[client,default,serve]) (0.5.7)\n",
      "Requirement already satisfied: opencensus in ./models-cache/lib/python3.11/site-packages (from ray[client,default,serve]) (0.11.4)\n",
      "Requirement already satisfied: prometheus-client>=0.7.1 in /opt/bitnami/miniconda/lib/python3.11/site-packages (from ray[client,default,serve]) (0.20.0)\n",
      "Requirement already satisfied: smart-open in ./models-cache/lib/python3.11/site-packages (from ray[client,default,serve]) (7.3.0.post1)\n",
      "Requirement already satisfied: virtualenv!=20.21.1,>=20.0.24 in ./models-cache/lib/python3.11/site-packages (from ray[client,default,serve]) (20.34.0)\n",
      "Requirement already satisfied: py-spy>=0.2.0 in ./models-cache/lib/python3.11/site-packages (from ray[client,default,serve]) (0.4.1)\n",
      "Requirement already satisfied: starlette in ./models-cache/lib/python3.11/site-packages (from ray[client,default,serve]) (0.47.2)\n",
      "Requirement already satisfied: watchfiles in ./models-cache/lib/python3.11/site-packages (from ray[client,default,serve]) (1.1.0)\n",
      "Requirement already satisfied: attrs>=17.3.0 in /opt/bitnami/miniconda/lib/python3.11/site-packages (from aiohttp>=3.7->ray[client,default,serve]) (23.2.0)\n",
      "Requirement already satisfied: multidict<7.0,>=4.5 in /opt/bitnami/miniconda/lib/python3.11/site-packages (from aiohttp>=3.7->ray[client,default,serve]) (6.0.5)\n",
      "Requirement already satisfied: yarl<2.0,>=1.0 in /opt/bitnami/miniconda/lib/python3.11/site-packages (from aiohttp>=3.7->ray[client,default,serve]) (1.9.4)\n",
      "Requirement already satisfied: Mako in /opt/bitnami/miniconda/lib/python3.11/site-packages (from alembic!=1.10.0,<2->mlflow) (1.3.5)\n",
      "Requirement already satisfied: wheel<1.0,>=0.23.0 in /opt/bitnami/miniconda/lib/python3.11/site-packages (from astunparse>=1.6.0->tensorflow) (0.43.0)\n",
      "Requirement already satisfied: cffi>=1.14 in /opt/bitnami/miniconda/lib/python3.11/site-packages (from cryptography<46,>=43.0.0->mlflow) (1.16.0)\n",
      "Requirement already satisfied: urllib3>=1.26.0 in /opt/bitnami/miniconda/lib/python3.11/site-packages (from docker<8,>=4.0.0->mlflow) (2.1.0)\n",
      "Requirement already satisfied: blinker>=1.9.0 in ./models-cache/lib/python3.11/site-packages (from Flask<4->mlflow) (1.9.0)\n",
      "Requirement already satisfied: itsdangerous>=2.2.0 in ./models-cache/lib/python3.11/site-packages (from Flask<4->mlflow) (2.2.0)\n",
      "Requirement already satisfied: jinja2>=3.1.2 in /opt/bitnami/miniconda/lib/python3.11/site-packages (from Flask<4->mlflow) (3.1.4)\n",
      "Requirement already satisfied: markupsafe>=2.1.1 in /opt/bitnami/miniconda/lib/python3.11/site-packages (from Flask<4->mlflow) (2.1.5)\n",
      "Requirement already satisfied: werkzeug>=3.1.0 in ./models-cache/lib/python3.11/site-packages (from Flask<4->mlflow) (3.1.3)\n",
      "Requirement already satisfied: graphql-core<3.3,>=3.1 in ./models-cache/lib/python3.11/site-packages (from graphene<4->mlflow) (3.2.6)\n",
      "Requirement already satisfied: graphql-relay<3.3,>=3.1 in ./models-cache/lib/python3.11/site-packages (from graphene<4->mlflow) (3.2.0)\n",
      "Requirement already satisfied: python-dateutil<3,>=2.7.0 in /opt/bitnami/miniconda/lib/python3.11/site-packages (from graphene<4->mlflow) (2.9.0.post0)\n",
      "Requirement already satisfied: rich in ./models-cache/lib/python3.11/site-packages (from keras>=3.10.0->tensorflow) (14.1.0)\n",
      "Requirement already satisfied: namex in ./models-cache/lib/python3.11/site-packages (from keras>=3.10.0->tensorflow) (0.1.0)\n",
      "Requirement already satisfied: optree in ./models-cache/lib/python3.11/site-packages (from keras>=3.10.0->tensorflow) (0.17.0)\n",
      "Requirement already satisfied: contourpy>=1.0.1 in ./models-cache/lib/python3.11/site-packages (from matplotlib<4->mlflow) (1.3.3)\n",
      "Requirement already satisfied: cycler>=0.10 in ./models-cache/lib/python3.11/site-packages (from matplotlib<4->mlflow) (0.12.1)\n",
      "Requirement already satisfied: fonttools>=4.22.0 in ./models-cache/lib/python3.11/site-packages (from matplotlib<4->mlflow) (4.59.1)\n",
      "Requirement already satisfied: kiwisolver>=1.3.1 in ./models-cache/lib/python3.11/site-packages (from matplotlib<4->mlflow) (1.4.9)\n",
      "Requirement already satisfied: pillow>=8 in ./models-cache/lib/python3.11/site-packages (from matplotlib<4->mlflow) (11.3.0)\n",
      "Requirement already satisfied: pyparsing>=2.3.1 in ./models-cache/lib/python3.11/site-packages (from matplotlib<4->mlflow) (3.2.3)\n",
      "Requirement already satisfied: pytz>=2020.1 in ./models-cache/lib/python3.11/site-packages (from pandas<3->mlflow) (2025.2)\n",
      "Requirement already satisfied: tzdata>=2022.7 in ./models-cache/lib/python3.11/site-packages (from pandas<3->mlflow) (2025.2)\n",
      "Requirement already satisfied: annotated-types>=0.4.0 in /opt/bitnami/miniconda/lib/python3.11/site-packages (from pydantic<3,>=1.10.8->mlflow-skinny==3.3.1->mlflow) (0.7.0)\n",
      "Requirement already satisfied: pydantic-core==2.18.4 in /opt/bitnami/miniconda/lib/python3.11/site-packages (from pydantic<3,>=1.10.8->mlflow-skinny==3.3.1->mlflow) (2.18.4)\n",
      "Requirement already satisfied: charset-normalizer<4,>=2 in /opt/bitnami/miniconda/lib/python3.11/site-packages (from requests<3,>=2.17.3->mlflow-skinny==3.3.1->mlflow) (2.0.4)\n",
      "Requirement already satisfied: idna<4,>=2.5 in /opt/bitnami/miniconda/lib/python3.11/site-packages (from requests<3,>=2.17.3->mlflow-skinny==3.3.1->mlflow) (3.7)\n",
      "Requirement already satisfied: certifi>=2017.4.17 in /opt/bitnami/miniconda/lib/python3.11/site-packages (from requests<3,>=2.17.3->mlflow-skinny==3.3.1->mlflow) (2024.2.2)\n",
      "Requirement already satisfied: joblib>=1.2.0 in ./models-cache/lib/python3.11/site-packages (from scikit-learn<2->mlflow) (1.5.1)\n",
      "Requirement already satisfied: threadpoolctl>=3.1.0 in ./models-cache/lib/python3.11/site-packages (from scikit-learn<2->mlflow) (3.6.0)\n",
      "Requirement already satisfied: greenlet!=0.4.17 in /opt/bitnami/miniconda/lib/python3.11/site-packages (from sqlalchemy<3,>=1.4.0->mlflow) (3.0.3)\n",
      "Requirement already satisfied: anyio<5,>=3.6.2 in /opt/bitnami/miniconda/lib/python3.11/site-packages (from starlette->ray[client,default,serve]) (4.4.0)\n",
      "Requirement already satisfied: markdown>=2.6.8 in ./models-cache/lib/python3.11/site-packages (from tensorboard~=2.20.0->tensorflow) (3.8.2)\n",
      "Requirement already satisfied: tensorboard-data-server<0.8.0,>=0.7.0 in ./models-cache/lib/python3.11/site-packages (from tensorboard~=2.20.0->tensorflow) (0.7.2)\n",
      "Requirement already satisfied: distlib<1,>=0.3.7 in ./models-cache/lib/python3.11/site-packages (from virtualenv!=20.21.1,>=20.0.24->ray[client,default,serve]) (0.4.0)\n",
      "Requirement already satisfied: platformdirs<5,>=3.9.1 in /opt/bitnami/miniconda/lib/python3.11/site-packages (from virtualenv!=20.21.1,>=20.0.24->ray[client,default,serve]) (3.10.0)\n",
      "Requirement already satisfied: jsonschema-specifications>=2023.03.6 in /opt/bitnami/miniconda/lib/python3.11/site-packages (from jsonschema->ray[client,default,serve]) (2023.12.1)\n",
      "Requirement already satisfied: referencing>=0.28.4 in /opt/bitnami/miniconda/lib/python3.11/site-packages (from jsonschema->ray[client,default,serve]) (0.35.1)\n",
      "Requirement already satisfied: rpds-py>=0.7.1 in /opt/bitnami/miniconda/lib/python3.11/site-packages (from jsonschema->ray[client,default,serve]) (0.18.1)\n",
      "Requirement already satisfied: opencensus-context>=0.1.3 in ./models-cache/lib/python3.11/site-packages (from opencensus->ray[client,default,serve]) (0.1.3)\n",
      "Requirement already satisfied: google-api-core<3.0.0,>=1.0.0 in ./models-cache/lib/python3.11/site-packages (from opencensus->ray[client,default,serve]) (2.25.1)\n",
      "Requirement already satisfied: h11>=0.8 in /opt/bitnami/miniconda/lib/python3.11/site-packages (from uvicorn[standard]; extra == \"serve\"->ray[client,default,serve]) (0.14.0)\n",
      "Requirement already satisfied: httptools>=0.6.3 in ./models-cache/lib/python3.11/site-packages (from uvicorn[standard]; extra == \"serve\"->ray[client,default,serve]) (0.6.4)\n",
      "Requirement already satisfied: python-dotenv>=0.13 in ./models-cache/lib/python3.11/site-packages (from uvicorn[standard]; extra == \"serve\"->ray[client,default,serve]) (1.1.1)\n",
      "Requirement already satisfied: uvloop>=0.15.1 in ./models-cache/lib/python3.11/site-packages (from uvicorn[standard]; extra == \"serve\"->ray[client,default,serve]) (0.21.0)\n",
      "Requirement already satisfied: websockets>=10.4 in ./models-cache/lib/python3.11/site-packages (from uvicorn[standard]; extra == \"serve\"->ray[client,default,serve]) (15.0.1)\n",
      "Requirement already satisfied: sniffio>=1.1 in /opt/bitnami/miniconda/lib/python3.11/site-packages (from anyio<5,>=3.6.2->starlette->ray[client,default,serve]) (1.3.1)\n",
      "Requirement already satisfied: pycparser in /opt/bitnami/miniconda/lib/python3.11/site-packages (from cffi>=1.14->cryptography<46,>=43.0.0->mlflow) (2.21)\n",
      "Requirement already satisfied: google-auth~=2.0 in ./models-cache/lib/python3.11/site-packages (from databricks-sdk<1,>=0.20.0->mlflow-skinny==3.3.1->mlflow) (2.40.3)\n",
      "Requirement already satisfied: gitdb<5,>=4.0.1 in ./models-cache/lib/python3.11/site-packages (from gitpython<4,>=3.1.9->mlflow-skinny==3.3.1->mlflow) (4.0.12)\n",
      "Requirement already satisfied: googleapis-common-protos<2.0.0,>=1.56.2 in ./models-cache/lib/python3.11/site-packages (from google-api-core<3.0.0,>=1.0.0->opencensus->ray[client,default,serve]) (1.70.0)\n",
      "Requirement already satisfied: proto-plus<2.0.0,>=1.22.3 in ./models-cache/lib/python3.11/site-packages (from google-api-core<3.0.0,>=1.0.0->opencensus->ray[client,default,serve]) (1.26.1)\n",
      "Requirement already satisfied: zipp>=3.20 in ./models-cache/lib/python3.11/site-packages (from importlib_metadata!=4.7.0,<9,>=3.7.0->mlflow-skinny==3.3.1->mlflow) (3.23.0)\n",
      "Requirement already satisfied: opentelemetry-semantic-conventions==0.57b0 in ./models-cache/lib/python3.11/site-packages (from opentelemetry-sdk<3,>=1.9.0->mlflow-skinny==3.3.1->mlflow) (0.57b0)\n",
      "Requirement already satisfied: markdown-it-py>=2.2.0 in ./models-cache/lib/python3.11/site-packages (from rich->keras>=3.10.0->tensorflow) (4.0.0)\n",
      "Requirement already satisfied: pygments<3.0.0,>=2.13.0 in /opt/bitnami/miniconda/lib/python3.11/site-packages (from rich->keras>=3.10.0->tensorflow) (2.18.0)\n",
      "Requirement already satisfied: smmap<6,>=3.0.1 in ./models-cache/lib/python3.11/site-packages (from gitdb<5,>=4.0.1->gitpython<4,>=3.1.9->mlflow-skinny==3.3.1->mlflow) (5.0.2)\n",
      "Requirement already satisfied: pyasn1-modules>=0.2.1 in ./models-cache/lib/python3.11/site-packages (from google-auth~=2.0->databricks-sdk<1,>=0.20.0->mlflow-skinny==3.3.1->mlflow) (0.4.2)\n",
      "Requirement already satisfied: rsa<5,>=3.1.4 in ./models-cache/lib/python3.11/site-packages (from google-auth~=2.0->databricks-sdk<1,>=0.20.0->mlflow-skinny==3.3.1->mlflow) (4.9.1)\n",
      "Requirement already satisfied: mdurl~=0.1 in ./models-cache/lib/python3.11/site-packages (from markdown-it-py>=2.2.0->rich->keras>=3.10.0->tensorflow) (0.1.2)\n",
      "Requirement already satisfied: pyasn1<0.7.0,>=0.6.1 in ./models-cache/lib/python3.11/site-packages (from pyasn1-modules>=0.2.1->google-auth~=2.0->databricks-sdk<1,>=0.20.0->mlflow-skinny==3.3.1->mlflow) (0.6.1)\n"
     ]
    }
   ],
   "source": [
    "!pip install numpy mlflow tensorflow \"ray[serve,default,client]\""
   ]
  },
  {
   "cell_type": "code",
   "execution_count": 3,
   "id": "e8deec5c-6239-4087-8a4d-27c091e9fc3c",
   "metadata": {
    "tags": []
   },
   "outputs": [
    {
     "name": "stderr",
     "output_type": "stream",
     "text": [
      "2025/08/25 15:31:13 INFO mlflow.tracking.fluent: Experiment with name 'Diabetes_Prediction_TensorFlow' does not exist. Creating a new experiment.\n",
      "2025/08/25 15:31:13 WARNING mlflow.tracking.context.registry: Encountered unexpected error during resolving tags: 'getpwuid(): uid not found: 1001'\n",
      "2025/08/25 15:31:14 WARNING mlflow.utils.git_utils: Failed to import Git (the Git executable is probably not on your PATH), so Git SHA is not available. Error: Failed to initialize: Bad git executable.\n",
      "The git executable must be specified in one of the following ways:\n",
      "    - be included in your $PATH\n",
      "    - be set via $GIT_PYTHON_GIT_EXECUTABLE\n",
      "    - explicitly set via git.refresh(<full-path-to-git-executable>)\n",
      "\n",
      "All git commands will error until this is rectified.\n",
      "\n",
      "This initial message can be silenced or aggravated in the future by setting the\n",
      "$GIT_PYTHON_REFRESH environment variable. Use one of the following values:\n",
      "    - quiet|q|silence|s|silent|none|n|0: for no message or exception\n",
      "    - warn|w|warning|log|l|1: for a warning message (logging level CRITICAL, displayed by default)\n",
      "    - error|e|exception|raise|r|2: for a raised exception\n",
      "\n",
      "Example:\n",
      "    export GIT_PYTHON_REFRESH=quiet\n",
      "\n",
      "/tmp/models-cache/lib/python3.11/site-packages/keras/src/layers/core/dense.py:92: UserWarning: Do not pass an `input_shape`/`input_dim` argument to a layer. When using Sequential models, prefer using an `Input(shape)` object as the first layer in the model instead.\n",
      "  super().__init__(activity_regularizer=activity_regularizer, **kwargs)\n"
     ]
    },
    {
     "name": "stdout",
     "output_type": "stream",
     "text": [
      "🏃 View run industrious-mare-919 at: http://ai-starter-kit-mlflow:5000/#/experiments/1/runs/b4024c97d9bd4a058ae7f005bf520d60\n",
      "🧪 View experiment at: http://ai-starter-kit-mlflow:5000/#/experiments/1\n"
     ]
    }
   ],
   "source": [
    "import mlflow\n",
    "import mlflow.tensorflow\n",
    "import numpy as np\n",
    "\n",
    "from sklearn.datasets import load_diabetes\n",
    "from sklearn.model_selection import train_test_split\n",
    "from sklearn.preprocessing import StandardScaler\n",
    "\n",
    "import tensorflow as tf\n",
    "from tensorflow import keras\n",
    "from tensorflow.keras import layers\n",
    "\n",
    "# -------------------\n",
    "# Prepare Data\n",
    "# -------------------\n",
    "data = load_diabetes()\n",
    "X = data.data\n",
    "y = data.target.reshape(-1, 1)\n",
    "\n",
    "X_train, X_test, y_train, y_test = train_test_split(\n",
    "    X, y, test_size=0.2, random_state=42\n",
    ")\n",
    "\n",
    "# -------------------\n",
    "# Define Model\n",
    "# -------------------\n",
    "def create_model(input_dim):\n",
    "    model = keras.Sequential([\n",
    "        layers.Dense(64, activation=\"relu\", input_shape=(input_dim,)),\n",
    "        layers.Dense(32, activation=\"relu\"),\n",
    "        layers.Dense(1)  # regression output\n",
    "    ])\n",
    "    model.compile(optimizer=\"adam\", loss=\"mse\", metrics=[\"mse\"])\n",
    "    return model\n",
    "\n",
    "input_dim = X_train.shape[1]\n",
    "epochs = 50\n",
    "batch_size = 32\n",
    "\n",
    "mlflow.set_experiment(\"Diabetes_Prediction_TensorFlow\")\n",
    "\n",
    "with mlflow.start_run():\n",
    "    mlflow.log_param(\"epochs\", epochs)\n",
    "    mlflow.log_param(\"batch_size\", batch_size)\n",
    "    mlflow.log_param(\"optimizer\", \"adam\")\n",
    "    mlflow.log_param(\"loss_fn\", \"mse\")\n",
    "    mlflow.log_param(\"input_features\", input_dim)\n",
    "\n",
    "    model = create_model(input_dim)\n",
    "\n",
    "    # Train\n",
    "    history = model.fit(\n",
    "        X_train, y_train,\n",
    "        validation_data=(X_test, y_test),\n",
    "        epochs=epochs,\n",
    "        batch_size=batch_size,\n",
    "        verbose=0\n",
    "    )\n",
    "\n",
    "    # Evaluation\n",
    "    loss, mse = model.evaluate(X_test, y_test, verbose=0)\n",
    "    rmse = np.sqrt(mse)\n",
    "\n",
    "    mlflow.log_metric(\"mse\", mse)\n",
    "    mlflow.log_metric(\"rmse\", rmse)"
   ]
  },
  {
   "cell_type": "code",
   "execution_count": 4,
   "id": "556ae0b2-6fa6-4271-9e7d-553cd7056aab",
   "metadata": {
    "tags": []
   },
   "outputs": [
    {
     "name": "stderr",
     "output_type": "stream",
     "text": [
      "2025-08-25 15:31:54,495\tINFO worker.py:1514 -- Using address ray://ai-starter-kit-kuberay-head-svc:10001 set in the environment variable RAY_ADDRESS\n",
      "2025-08-25 15:31:54,496\tINFO client_builder.py:244 -- Passing the following kwargs to ray.init() on the server: log_to_driver\n",
      "2025-08-25 15:31:56,843\tWARNING utils.py:1591 -- Python patch version mismatch: The cluster was started with:\n",
      "    Ray: 2.41.0\n",
      "    Python: 3.11.11\n",
      "This process on Ray Client was started with:\n",
      "    Ray: 2.41.0\n",
      "    Python: 3.11.9\n",
      "\n",
      "\u001b[36m(ProxyActor pid=1468)\u001b[0m INFO 2025-08-25 08:31:59,214 proxy 10.244.0.10 -- Proxy starting on node 81c358455800f2bdc4877c485050214e6401aeba80d5f886b0b5c76b (HTTP port: 8000).\n",
      "INFO 2025-08-25 15:31:59,273 serve 33 -- Started Serve in namespace \"serve\".\n",
      "\u001b[36m(ProxyActor pid=1468)\u001b[0m INFO 2025-08-25 08:31:59,263 proxy 10.244.0.10 -- Got updated endpoints: {}.\n",
      "\u001b[36m(ServeController pid=1467)\u001b[0m INFO 2025-08-25 08:31:59,381 controller 1467 -- Deploying new version of Deployment(name='TensorFlowMLflowDeployment', app='default') (initial target replicas: 1).\n",
      "\u001b[36m(ProxyActor pid=1468)\u001b[0m INFO 2025-08-25 08:31:59,382 proxy 10.244.0.10 -- Got updated endpoints: {Deployment(name='TensorFlowMLflowDeployment', app='default'): EndpointInfo(route='/predict', app_is_cross_language=False)}.\n",
      "\u001b[36m(ServeController pid=1467)\u001b[0m INFO 2025-08-25 08:31:59,485 controller 1467 -- Adding 1 replica to Deployment(name='TensorFlowMLflowDeployment', app='default').\n"
     ]
    },
    {
     "name": "stdout",
     "output_type": "stream",
     "text": [
      "\u001b[36m(ServeReplica:default:TensorFlowMLflowDeployment pid=1892)\u001b[0m Loading model...\n",
      "\u001b[36m(ServeReplica:default:TensorFlowMLflowDeployment pid=1892)\u001b[0m Model loaded successfully.\n"
     ]
    },
    {
     "name": "stderr",
     "output_type": "stream",
     "text": [
      "INFO 2025-08-25 15:32:27,755 serve 33 -- Application 'default' is ready at http://127.0.0.1:8000/predict.\n",
      "INFO 2025-08-25 15:32:27,763 serve 33 -- Deployed app 'default' successfully.\n"
     ]
    },
    {
     "data": {
      "text/plain": [
       "DeploymentHandle(deployment='TensorFlowMLflowDeployment')"
      ]
     },
     "execution_count": 4,
     "metadata": {},
     "output_type": "execute_result"
    },
    {
     "name": "stderr",
     "output_type": "stream",
     "text": [
      "\u001b[36m(ServeReplica:default:TensorFlowMLflowDeployment pid=1892)\u001b[0m INFO 2025-08-25 08:32:31,791 default_TensorFlowMLflowDeployment hxdk1mul 2fb49464-68f5-4bb3-a884-f57f44ab36f1 -- POST /predict 200 118.2ms\n"
     ]
    },
    {
     "name": "stdout",
     "output_type": "stream",
     "text": [
      "\u001b[1m1/1\u001b[0m \u001b[32m━━━━━━━━━━━━━━━━━━━━\u001b[0m\u001b[37m\u001b[0m \u001b[1m0s\u001b[0m 50ms/step\n"
     ]
    }
   ],
   "source": [
    "import numpy as np\n",
    "import mlflow.tensorflow\n",
    "import tensorflow as tf\n",
    "from starlette.requests import Request\n",
    "from typing import Dict\n",
    "\n",
    "from ray import serve\n",
    "import ray\n",
    "\n",
    "\n",
    "@serve.deployment(\n",
    "    ray_actor_options={\n",
    "        \"runtime_env\": {\n",
    "            \"pip\": [\"tensorflow\"]\n",
    "        },\n",
    "    }\n",
    ")\n",
    "class TensorFlowMLflowDeployment:\n",
    "    def __init__(self):\n",
    "        print(\"Loading model...\")\n",
    "        self.model = model\n",
    "        print(\"Model loaded successfully.\")\n",
    "\n",
    "    async def __call__(self, request: Request) -> Dict:\n",
    "        try:\n",
    "            data = await request.json()\n",
    "            features = data.get(\"features\", None)\n",
    "            if features is None:\n",
    "                return {\"error\": \"Missing 'features' in request\"}\n",
    "            X = np.array(features).reshape(1, -1)\n",
    "\n",
    "            # Make prediction with TensorFlow model\n",
    "            prediction = self.model.predict(X).flatten().tolist()\n",
    "\n",
    "            return {\"prediction\": prediction}\n",
    "        except Exception as e:\n",
    "            return {\"error\": str(e)}\n",
    "\n",
    "\n",
    "# Bind and deploy\n",
    "app = TensorFlowMLflowDeployment.bind()\n",
    "serve.run(app, route_prefix=\"/predict\")\n"
   ]
  }
 ],
 "metadata": {
  "kernelspec": {
   "display_name": "Python 3 (ipykernel)",
   "language": "python",
   "name": "python3"
  },
  "language_info": {
   "codemirror_mode": {
    "name": "ipython",
    "version": 3
   },
   "file_extension": ".py",
   "mimetype": "text/x-python",
   "name": "python",
   "nbconvert_exporter": "python",
   "pygments_lexer": "ipython3",
   "version": "3.11.9"
  }
 },
 "nbformat": 4,
 "nbformat_minor": 5
}
