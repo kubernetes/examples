{
 "cells": [
  {
   "cell_type": "code",
   "execution_count": null,
   "id": "e4a6ac7c-5c73-42a9-8b74-420788321543",
   "metadata": {
    "tags": []
   },
   "outputs": [],
   "source": [
    "!pip install ray==2.41.0"
   ]
  },
  {
   "cell_type": "code",
   "execution_count": null,
   "id": "788f1517-251c-4171-af7d-f4c7a5073d71",
   "metadata": {
    "tags": []
   },
   "outputs": [],
   "source": [
    "!pip install numpy mlflow tensorflow \"ray[serve,default,client]\""
   ]
  },
  {
   "cell_type": "code",
   "execution_count": null,
   "id": "e8deec5c-6239-4087-8a4d-27c091e9fc3c",
   "metadata": {
    "tags": []
   },
   "outputs": [],
   "source": [
    "import mlflow\n",
    "import mlflow.tensorflow\n",
    "import numpy as np\n",
    "\n",
    "from sklearn.datasets import load_diabetes\n",
    "from sklearn.model_selection import train_test_split\n",
    "from sklearn.preprocessing import StandardScaler\n",
    "\n",
    "import tensorflow as tf\n",
    "from tensorflow import keras\n",
    "from tensorflow.keras import layers\n",
    "\n",
    "# -------------------\n",
    "# Prepare Data\n",
    "# -------------------\n",
    "data = load_diabetes()\n",
    "X = data.data\n",
    "y = data.target.reshape(-1, 1)\n",
    "\n",
    "X_train, X_test, y_train, y_test = train_test_split(\n",
    "    X, y, test_size=0.2, random_state=42\n",
    ")\n",
    "\n",
    "# -------------------\n",
    "# Define Model\n",
    "# -------------------\n",
    "def create_model(input_dim):\n",
    "    model = keras.Sequential([\n",
    "        layers.Dense(64, activation=\"relu\", input_shape=(input_dim,)),\n",
    "        layers.Dense(32, activation=\"relu\"),\n",
    "        layers.Dense(1)  # regression output\n",
    "    ])\n",
    "    model.compile(optimizer=\"adam\", loss=\"mse\", metrics=[\"mse\"])\n",
    "    return model\n",
    "\n",
    "input_dim = X_train.shape[1]\n",
    "epochs = 50\n",
    "batch_size = 32\n",
    "\n",
    "mlflow.set_experiment(\"Diabetes_Prediction_TensorFlow\")\n",
    "\n",
    "with mlflow.start_run():\n",
    "    mlflow.log_param(\"epochs\", epochs)\n",
    "    mlflow.log_param(\"batch_size\", batch_size)\n",
    "    mlflow.log_param(\"optimizer\", \"adam\")\n",
    "    mlflow.log_param(\"loss_fn\", \"mse\")\n",
    "    mlflow.log_param(\"input_features\", input_dim)\n",
    "\n",
    "    model = create_model(input_dim)\n",
    "\n",
    "    # Train\n",
    "    history = model.fit(\n",
    "        X_train, y_train,\n",
    "        validation_data=(X_test, y_test),\n",
    "        epochs=epochs,\n",
    "        batch_size=batch_size,\n",
    "        verbose=0\n",
    "    )\n",
    "\n",
    "    # Evaluation\n",
    "    loss, mse = model.evaluate(X_test, y_test, verbose=0)\n",
    "    rmse = np.sqrt(mse)\n",
    "\n",
    "    mlflow.log_metric(\"mse\", mse)\n",
    "    mlflow.log_metric(\"rmse\", rmse)"
   ]
  },
  {
   "cell_type": "code",
   "execution_count": null,
   "id": "556ae0b2-6fa6-4271-9e7d-553cd7056aab",
   "metadata": {
    "tags": []
   },
   "outputs": [],
   "source": [
    "import numpy as np\n",
    "import mlflow.tensorflow\n",
    "import tensorflow as tf\n",
    "from starlette.requests import Request\n",
    "from typing import Dict\n",
    "\n",
    "from ray import serve\n",
    "import ray\n",
    "\n",
    "\n",
    "@serve.deployment(\n",
    "    ray_actor_options={\n",
    "        \"runtime_env\": {\n",
    "            \"pip\": [\"tensorflow\"]\n",
    "        },\n",
    "    }\n",
    ")\n",
    "class TensorFlowMLflowDeployment:\n",
    "    def __init__(self):\n",
    "        print(\"Loading model...\")\n",
    "        self.model = model\n",
    "        print(\"Model loaded successfully.\")\n",
    "\n",
    "    async def __call__(self, input_data) -> Dict:\n",
    "        try:\n",
    "            if isinstance(input_data, Request):\n",
    "                data = await input_data.json()\n",
    "            else:\n",
    "                data = input_data\n",
    "            features = data.get(\"features\", None)\n",
    "            if features is None:\n",
    "                return {\"error\": \"Missing 'features' in request\"}\n",
    "            X = np.array(features).reshape(1, -1)\n",
    "\n",
    "            # Make prediction with TensorFlow model\n",
    "            prediction = self.model.predict(X).flatten().tolist()\n",
    "\n",
    "            return {\"prediction\": prediction}\n",
    "        except Exception as e:\n",
    "            return {\"error\": str(e)}\n",
    "\n",
    "\n",
    "# Bind and deploy\n",
    "app = TensorFlowMLflowDeployment.bind()\n",
    "handle = serve.run(app, route_prefix=\"/predict\")"
   ]
  },
  {
   "cell_type": "code",
   "execution_count": null,
   "id": "e264af73-6634-412b-9cbc-86b79c18e775",
   "metadata": {
    "tags": []
   },
   "outputs": [],
   "source": [
    "json_data = {\"features\": [0.0380759, 0.0506801, 0.0616962, 0.0218724, -0.0442235, -0.0348208, -0.0434008, -0.00259226, 0.0199084, -0.0176461]}\n",
    "response = handle.remote(json_data)\n",
    "await response"
   ]
  }
 ],
 "metadata": {
  "kernelspec": {
   "display_name": "Python 3 (ipykernel)",
   "language": "python",
   "name": "python3"
  },
  "language_info": {
   "codemirror_mode": {
    "name": "ipython",
    "version": 3
   },
   "file_extension": ".py",
   "mimetype": "text/x-python",
   "name": "python",
   "nbconvert_exporter": "python",
   "pygments_lexer": "ipython3",
   "version": "3.12.10"
  }
 },
 "nbformat": 4,
 "nbformat_minor": 5
}
